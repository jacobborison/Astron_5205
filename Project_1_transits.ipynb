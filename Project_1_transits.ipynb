{
 "cells": [
  {
   "cell_type": "code",
   "execution_count": 1,
   "id": "f8e04eb9",
   "metadata": {},
   "outputs": [],
   "source": [
    "import numpy as np\n",
    "import matplotlib.pyplot as plt\n",
    "import astropy.io.ascii \n",
    "import pandas as pd"
   ]
  },
  {
   "cell_type": "code",
   "execution_count": 2,
   "id": "7674d3fe",
   "metadata": {},
   "outputs": [],
   "source": [
    "tab = pd.read_csv(\"PS_2023.01.18_12.12.33.csv\", header=100)"
   ]
  },
  {
   "cell_type": "code",
   "execution_count": 4,
   "id": "03430865",
   "metadata": {},
   "outputs": [],
   "source": [
    "# Data on the planets of our Solar System\n",
    "# Masses are in kilograms, times 10 to the 24th power\n",
    "# Radii (equitorial) are in kilometers\n",
    "# Orbital periods are in years\n",
    "# Distance from the Sun (semimajor axis) is in AU (astronomical units)\n",
    "# Average temperatures are in Kelvin\n",
    "\n",
    "planet_data = {\n",
    "    \"Mercury\": {\"mass\":0.33011,\"radius\":2439.7,\"orbital period\":0.241,\"semimajor axis\":0.387,\"average temperature\":440.15},\n",
    "    \"Venus\": {\"mass\":4.8675,\"radius\":6051.8,\"orbital period\":0.615,\"semimajor axis\":0.723,\"average temperature\":737.15},\n",
    "    \"Earth\": {\"mass\":5.9724,\"radius\":6378.137,\"orbital period\":1,\"semimajor axis\":1,\"average temperature\":288.15},\n",
    "    \"Mars\": {\"mass\":0.64171,\"radius\":3396.2,\"orbital period\":1.881,\"semimajor axis\":1.524,\"average temperature\":208.15},\n",
    "    \"Jupiter\": {\"mass\":1898.19,\"radius\":71492,\"orbital period\":11.862,\"semimajor axis\":5.204,\"average temperature\":163.15},\n",
    "    \"Saturn\": {\"mass\":568.34,\"radius\":60268,\"orbital period\":29.457,\"semimajor axis\":9.583,\"average temperature\":133.15},\n",
    "    \"Uranus\": {\"mass\":86.813,\"radius\":25559,\"orbital period\":84.011,\"semimajor axis\":19.201,\"average temperature\":78.15},\n",
    "    \"Neptune\": {\"mass\":102.413,\"radius\":24764,\"orbital period\":164.79,\"semimajor axis\":30.048,\"average temperature\":73.15},}"
   ]
  },
  {
   "cell_type": "markdown",
   "id": "80364f9f",
   "metadata": {},
   "source": [
    "Detection methods:\n",
    "1. Imaging--f=10^-4 for JWST, other facilities are limited to 10^-3.  For $\\theta$ = $\\lambda$\\D, for a = d$\\theta$, 50 mas is the minimum separation it can detect\n",
    "2. Radial Velocity--k=0.5 m/s\n",
    "3. Transit: For K2 mission, anything over 5% is considered a deep transit, and is likely a binary star instead of a planet"
   ]
  },
  {
   "cell_type": "markdown",
   "id": "2b11d412",
   "metadata": {},
   "source": [
    "## Transit Detection\n",
    "\n",
    "We know that when a planet passes in front of a star, the depth of the transit is measured by:\n",
    "\n",
    "$$\n",
    "f = \\Bigl({{R_{p}}\\over{R_{*}}}\\Bigl)^2\n",
    "$$\n",
    "Therefore the radius of the star is:\n",
    "$$\n",
    "R_{*}={{R_{P}}\\over{\\sqrt{f}}}\n",
    "$$\n",
    "The data from K2 shows that the minimum transit depth detected by that mission was f=0.0134%.  Empiracally, we accept this as our state of the art limit for the minimum transit depth detectable by this mission, and fairly representative of the lower limit of planet-hunting spacecraft.  Per [Howard 2012](https://ui.adsabs.harvard.edu/abs/2012ApJS..201...15H/abstract) the signal to noise ratio (SNR) for the Kepler mission was calculated as:\n",
    "$$\n",
    "SNR = {{\\delta}\\over{\\sigma}} \\sqrt{{n*t}\\over{3 hr}}\n",
    "$$\n",
    "where again $\\delta$ is the transit depth, $\\sigma$ is an RMS noise level equal to 30 ppm at best, $n$ is the number of transits observed, $t$ is the transit time, and 3 hours is a scaling ratio accounting for the time over which $\\sigma$ is defined.  The transit time $t$ is defined as:\n",
    "$$\n",
    "t = 3.91 hr {{P}\\over{10 d}}^{1/3}\n",
    "$$\n",
    "Solving for the radius of the planet gives:\n",
    "$$\n",
    "R = a({{P}\\over{d}})^{1/6}\n",
    "$$\n",
    "Which relates radius to period.  "
   ]
  },
  {
   "cell_type": "markdown",
   "id": "854ba463",
   "metadata": {},
   "source": [
    "## References\n",
    "Vanderburg et al. 2017, \"Planetary Candidates from the First Year of the K2 Mission,\" The Astrophysical Journal Supplement Series, Volume 222, Issue 1, article id. 14, 15 pp. (2016).\n",
    "    \n",
    "Soulain et al. 2022, \"The James Webb Space Telescope aperture masking interferometer,\" Proceedings of the SPIE, Volume 11446, id. 1144611 18 pp. (2020).\n",
    "\n",
    "Howard et al. 2012, \"Planet Occurrence within 0.25 AU of Solar-type Stars from Kepler,\" The Astrophysical Journal Supplement, Volume 201, Issue 2, article id. 15, 20 pp. (2012)."
   ]
  },
  {
   "cell_type": "code",
   "execution_count": null,
   "id": "4dd25d82",
   "metadata": {},
   "outputs": [],
   "source": []
  }
 ],
 "metadata": {
  "kernelspec": {
   "display_name": "Python 3 (ipykernel)",
   "language": "python",
   "name": "python3"
  },
  "language_info": {
   "codemirror_mode": {
    "name": "ipython",
    "version": 3
   },
   "file_extension": ".py",
   "mimetype": "text/x-python",
   "name": "python",
   "nbconvert_exporter": "python",
   "pygments_lexer": "ipython3",
   "version": "3.9.7"
  }
 },
 "nbformat": 4,
 "nbformat_minor": 5
}
