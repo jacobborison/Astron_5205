{
 "cells": [
  {
   "cell_type": "code",
   "execution_count": 1,
   "id": "f8e04eb9",
   "metadata": {},
   "outputs": [],
   "source": [
    "import numpy as np\n",
    "import matplotlib.pyplot as plt\n",
    "import astropy.io.ascii "
   ]
  },
  {
   "cell_type": "code",
   "execution_count": 2,
   "id": "8b8dbd90",
   "metadata": {},
   "outputs": [],
   "source": [
    "tab = astropy.io.ascii.read(\"PS_2023.01.18_12.12.33.csv\")"
   ]
  },
  {
   "cell_type": "code",
   "execution_count": 31,
   "id": "03430865",
   "metadata": {},
   "outputs": [],
   "source": [
    "# Data on the planets of our Solar System\n",
    "# Masses are in kilograms, times 10 to the 24th power\n",
    "# Radii (equitorial) are in kilometers\n",
    "# Orbital periods are in years\n",
    "# Distance from the Sun (semimajor axis) is in AU (astronomical units)\n",
    "# Average temperatures are in Kelvin\n",
    "\n",
    "planet_data = {\n",
    "    \"Mercury\": {\"mass\":0.33011,\"radius\":2439.7,\"orbital period\":0.241,\"semimajor axis\":0.387,\"average temperature\":440.15},\n",
    "    \"Venus\": {\"mass\":4.8675,\"radius\":6051.8,\"orbital period\":0.615,\"semimajor axis\":0.723,\"average temperature\":737.15},\n",
    "    \"Earth\": {\"mass\":5.9724,\"radius\":6378.137,\"orbital period\":1,\"semimajor axis\":1,\"average temperature\":288.15},\n",
    "    \"Mars\": {\"mass\":0.64171,\"radius\":3396.2,\"orbital period\":1.881,\"semimajor axis\":1.524,\"average temperature\":208.15},\n",
    "    \"Jupiter\": {\"mass\":1898.19,\"radius\":71492,\"orbital period\":11.862,\"semimajor axis\":5.204,\"average temperature\":163.15},\n",
    "    \"Saturn\": {\"mass\":568.34,\"radius\":60268,\"orbital period\":29.457,\"semimajor axis\":9.583,\"average temperature\":133.15},\n",
    "    \"Uranus\": {\"mass\":86.813,\"radius\":25559,\"orbital period\":84.011,\"semimajor axis\":19.201,\"average temperature\":78.15},\n",
    "    \"Neptune\": {\"mass\":102.413,\"radius\":24764,\"orbital period\":164.79,\"semimajor axis\":30.048,\"average temperature\":73.15},}"
   ]
  },
  {
   "cell_type": "code",
   "execution_count": 38,
   "id": "1de20cb0",
   "metadata": {},
   "outputs": [],
   "source": [
    "# Creating a list of the masses of each planet.\n",
    "all_radius = []\n",
    "Earthrad = planet_data[\"Earth\"][\"radius\"]\n",
    "\n",
    "# Run through all the dictionary values, and extract the mass \n",
    "# of each planet from the list.\n",
    "\n",
    "for planet in planet_data.values():\n",
    "    all_mass.append(planet[\"radius\"]/Earthrad)"
   ]
  },
  {
   "cell_type": "code",
   "execution_count": 40,
   "id": "c2598cff",
   "metadata": {},
   "outputs": [],
   "source": [
    "# Creating a list of the semimajor axes of each planet.\n",
    "all_distances = []\n",
    "\n",
    "# Run through all the dictionary values, and extract the semimajor axis of each planet, appending it to our list.\n",
    "\n",
    "for planet in planet_data.values():\n",
    "    all_distances.append(planet[\"semimajor axis\"])"
   ]
  },
  {
   "cell_type": "code",
   "execution_count": 53,
   "id": "8406b246",
   "metadata": {},
   "outputs": [
    {
     "data": {
      "text/plain": [
       "Text(0.5, 1.0, 'Radius as a Function of Semimajor Axis')"
      ]
     },
     "execution_count": 53,
     "metadata": {},
     "output_type": "execute_result"
    },
    {
     "data": {
      "image/png": "[encoded data removed]",
      "text/plain": [
       "<Figure size 432x288 with 1 Axes>"
      ]
     },
     "metadata": {
      "needs_background": "light"
     },
     "output_type": "display_data"
    }
   ],
   "source": [
    "fig, ax = plt.subplots()\n",
    "# Plotting both data sets with labels and markers\n",
    "plt.scatter(tab[\"pl_rade\"], tab[\"pl_orbsmax\"], label=\"Exoplanet Data\")\n",
    "plt.scatter(all_radius, all_distances, label=\"Solar System Data\")\n",
    "# Setting plot limits\n",
    "plt.xscale(\"log\")\n",
    "plt.yscale(\"log\")\n",
    "#ax.set_xlim(0.1, 100)\n",
    "ax.set_ylim(0.001, 100000)\n",
    "#Setting labels\n",
    "ax.set_xlabel(\"Radius (Earth Radii)\")\n",
    "ax.set_ylabel(\"Semimajor Axis (AU)\")\n",
    "ax.set_title(\"Radius as a Function of Semimajor Axis\", fontsize=16)"
   ]
  },
  {
   "cell_type": "code",
   "execution_count": null,
   "id": "ac45b884",
   "metadata": {},
   "outputs": [],
   "source": []
  }
 ],
 "metadata": {
  "kernelspec": {
   "display_name": "Python 3 (ipykernel)",
   "language": "python",
   "name": "python3"
  },
  "language_info": {
   "codemirror_mode": {
    "name": "ipython",
    "version": 3
   },
   "file_extension": ".py",
   "mimetype": "text/x-python",
   "name": "python",
   "nbconvert_exporter": "python",
   "pygments_lexer": "ipython3",
   "version": "3.9.7"
  }
 },
 "nbformat": 4,
 "nbformat_minor": 5
}
