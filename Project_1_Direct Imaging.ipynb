{
 "cells": [
  {
   "cell_type": "code",
   "execution_count": 16,
   "id": "f8e04eb9",
   "metadata": {},
   "outputs": [],
   "source": [
    "import numpy as np\n",
    "import matplotlib.pyplot as plt\n",
    "import astropy.io.ascii \n",
    "import pandas as pd"
   ]
  },
  {
   "cell_type": "code",
   "execution_count": 17,
   "id": "7674d3fe",
   "metadata": {},
   "outputs": [],
   "source": [
    "tab = pd.read_csv(\"PS_2023.01.18_12.12.33.csv\", header=100)"
   ]
  },
  {
   "cell_type": "code",
   "execution_count": 18,
   "id": "03430865",
   "metadata": {},
   "outputs": [],
   "source": [
    "# Data on the planets of our Solar System\n",
    "# Masses are in kilograms, times 10 to the 24th power\n",
    "# Radii (equitorial) are in kilometers\n",
    "# Orbital periods are in years\n",
    "# Distance from the Sun (semimajor axis) is in AU (astronomical units)\n",
    "# Average temperatures are in Kelvin\n",
    "\n",
    "planet_data = {\n",
    "    \"Mercury\": {\"mass\":0.33011,\"radius\":2439.7,\"orbital period\":0.241,\"semimajor axis\":0.387,\"average temperature\":440.15},\n",
    "    \"Venus\": {\"mass\":4.8675,\"radius\":6051.8,\"orbital period\":0.615,\"semimajor axis\":0.723,\"average temperature\":737.15},\n",
    "    \"Earth\": {\"mass\":5.9724,\"radius\":6378.137,\"orbital period\":1,\"semimajor axis\":1,\"average temperature\":288.15},\n",
    "    \"Mars\": {\"mass\":0.64171,\"radius\":3396.2,\"orbital period\":1.881,\"semimajor axis\":1.524,\"average temperature\":208.15},\n",
    "    \"Jupiter\": {\"mass\":1898.19,\"radius\":71492,\"orbital period\":11.862,\"semimajor axis\":5.204,\"average temperature\":163.15},\n",
    "    \"Saturn\": {\"mass\":568.34,\"radius\":60268,\"orbital period\":29.457,\"semimajor axis\":9.583,\"average temperature\":133.15},\n",
    "    \"Uranus\": {\"mass\":86.813,\"radius\":25559,\"orbital period\":84.011,\"semimajor axis\":19.201,\"average temperature\":78.15},\n",
    "    \"Neptune\": {\"mass\":102.413,\"radius\":24764,\"orbital period\":164.79,\"semimajor axis\":30.048,\"average temperature\":73.15},}"
   ]
  },
  {
   "cell_type": "markdown",
   "id": "974194ab",
   "metadata": {},
   "source": [
    "## Direct Imaging\n",
    "Direct imaging depends on the fraction of starlight reflected by the planet, which defines the contrast between planet and star.  Planets must be very bright in order to be seen.  One equation for this fraction is dependent on temperature of the star:\n",
    "$$\n",
    "f = \\Bigl({{R_{p}}\\over{R_{*}}}\\Bigl)^2\\Biggl({{e^{T_{*}{{h\\nu}\\over{k_{B}}}}-1}\\over{e^{T_{p}{{h\\nu}\\over{k_{B}}}}-1}}\\Biggl)\n",
    "$$\n",
    "And another equation depends on the brightness of the planet, or its albedo:\n",
    "$$\n",
    "f = {{\\pi R_{p}^{2}}\\over{4 \\pi a^{2}}}A\n",
    "$$\n",
    "The albedo of many exoplanets is unknown, or at least not recorded within our database.  However, looking at [our own solar system](https://astronomy.swin.edu.au/cosmos/a/Albedo) as a guide, we can see an interesting fact, which is that the bond albedos of Earth, Jupiter, Neptune, Saturn, and Uranus are all right in the range of 0.29 to 0.34.  Mercury and Mars are considerably lower, but these planets do not represent the sizes of objects discovered in exoplanet surveys.  Venus is considerably higher, but Venus is just plain weird.  Most of the planets we discover are in the mass range of Earth to Jupiter (and beyond), so we can reasonably assume that a bond albedo of 0.32 is a fairly typical measurement across the Galaxy.  Therefore:\n",
    "$$\n",
    "f = 0.32{{\\pi R_{p}^{2}}\\over{4 \\pi a^{2}}}\n",
    "$$\n",
    "so we can define $R_{p}$ and $a$ as follows:\n",
    "$$\n",
    "a = \\sqrt{{{0.32 \\pi R_{p}^{2}}\\over{4 \\pi f}}}\n",
    "$$\n",
    "$$\n",
    "R_{p} = \\sqrt{{{4 \\pi a^{2} f}\\over{0.32 \\pi}}}\n",
    "$$\n",
    "According to [Soulain 2022](https://ui.adsabs.harvard.edu/abs/2020SPIE11446E..11S/abstract), the James Webb Space Telescope (JWST) is theoretically capable of detecting a planet to star contrast of f=$10^{-4}$.  So by replacing $f$ in the above equations with this value, we arrive at the state of the art sensitivity level for direct imaging."
   ]
  },
  {
   "cell_type": "code",
   "execution_count": 23,
   "id": "f5ae8d93",
   "metadata": {},
   "outputs": [],
   "source": [
    "from math import sqrt\n",
    "\n",
    "def direct_radius(a):\n",
    "    Radius = sqrt((4*a**2*10**-4)/(0.32))\n",
    "    \n",
    "    return Radius"
   ]
  },
  {
   "cell_type": "code",
   "execution_count": 24,
   "id": "23ea9ff4",
   "metadata": {},
   "outputs": [],
   "source": [
    "def direct_semiamp(r):\n",
    "    amp = sqrt((0.32*r**2)/(4*10**-4))\n",
    "    \n",
    "    return amp"
   ]
  },
  {
   "cell_type": "code",
   "execution_count": 25,
   "id": "09110d0b",
   "metadata": {},
   "outputs": [
    {
     "ename": "NameError",
     "evalue": "name 'transit_axis' is not defined",
     "output_type": "error",
     "traceback": [
      "\u001b[1;31m---------------------------------------------------------------------------\u001b[0m",
      "\u001b[1;31mNameError\u001b[0m                                 Traceback (most recent call last)",
      "\u001b[1;32m~\\AppData\\Local\\Temp/ipykernel_14140/3662342197.py\u001b[0m in \u001b[0;36m<module>\u001b[1;34m\u001b[0m\n\u001b[0;32m      2\u001b[0m \u001b[1;31m# Plotting both data sets with labels and markers\u001b[0m\u001b[1;33m\u001b[0m\u001b[1;33m\u001b[0m\u001b[0m\n\u001b[0;32m      3\u001b[0m \u001b[0mplt\u001b[0m\u001b[1;33m.\u001b[0m\u001b[0mgrid\u001b[0m\u001b[1;33m(\u001b[0m\u001b[1;33m)\u001b[0m\u001b[1;33m\u001b[0m\u001b[1;33m\u001b[0m\u001b[0m\n\u001b[1;32m----> 4\u001b[1;33m \u001b[0mplt\u001b[0m\u001b[1;33m.\u001b[0m\u001b[0mscatter\u001b[0m\u001b[1;33m(\u001b[0m\u001b[0mtransit_axis\u001b[0m\u001b[1;33m,\u001b[0m \u001b[0mtransit_radius\u001b[0m\u001b[1;33m,\u001b[0m \u001b[0mlabel\u001b[0m\u001b[1;33m=\u001b[0m\u001b[1;34m\"Transit\"\u001b[0m\u001b[1;33m,\u001b[0m\u001b[0ms\u001b[0m\u001b[1;33m=\u001b[0m\u001b[1;36m40\u001b[0m\u001b[1;33m,\u001b[0m\u001b[0mfacecolors\u001b[0m\u001b[1;33m=\u001b[0m\u001b[1;34m'none'\u001b[0m\u001b[1;33m,\u001b[0m \u001b[0medgecolors\u001b[0m\u001b[1;33m=\u001b[0m\u001b[1;34m'b'\u001b[0m\u001b[1;33m)\u001b[0m\u001b[1;33m\u001b[0m\u001b[1;33m\u001b[0m\u001b[0m\n\u001b[0m\u001b[0;32m      5\u001b[0m \u001b[0mplt\u001b[0m\u001b[1;33m.\u001b[0m\u001b[0mscatter\u001b[0m\u001b[1;33m(\u001b[0m\u001b[0mrv_axis\u001b[0m\u001b[1;33m,\u001b[0m \u001b[0mrv_radius\u001b[0m\u001b[1;33m,\u001b[0m \u001b[0mlabel\u001b[0m\u001b[1;33m=\u001b[0m\u001b[1;34m\"Radial Velocity\"\u001b[0m\u001b[1;33m,\u001b[0m\u001b[0ms\u001b[0m\u001b[1;33m=\u001b[0m\u001b[1;36m40\u001b[0m\u001b[1;33m,\u001b[0m\u001b[0mfacecolors\u001b[0m\u001b[1;33m=\u001b[0m\u001b[1;34m'none'\u001b[0m\u001b[1;33m,\u001b[0m \u001b[0medgecolors\u001b[0m\u001b[1;33m=\u001b[0m\u001b[1;34m'r'\u001b[0m\u001b[1;33m,\u001b[0m\u001b[0mmarker\u001b[0m\u001b[1;33m=\u001b[0m\u001b[1;34m's'\u001b[0m\u001b[1;33m)\u001b[0m\u001b[1;33m\u001b[0m\u001b[1;33m\u001b[0m\u001b[0m\n\u001b[0;32m      6\u001b[0m \u001b[0mplt\u001b[0m\u001b[1;33m.\u001b[0m\u001b[0mscatter\u001b[0m\u001b[1;33m(\u001b[0m\u001b[0mimage_axis\u001b[0m\u001b[1;33m,\u001b[0m \u001b[0mimage_radius\u001b[0m\u001b[1;33m,\u001b[0m \u001b[0mlabel\u001b[0m\u001b[1;33m=\u001b[0m\u001b[1;34m\"Imaging\"\u001b[0m\u001b[1;33m,\u001b[0m\u001b[0ms\u001b[0m\u001b[1;33m=\u001b[0m\u001b[1;36m40\u001b[0m\u001b[1;33m,\u001b[0m\u001b[0mfacecolors\u001b[0m\u001b[1;33m=\u001b[0m\u001b[1;34m'none'\u001b[0m\u001b[1;33m,\u001b[0m \u001b[0medgecolors\u001b[0m\u001b[1;33m=\u001b[0m\u001b[1;34m'c'\u001b[0m\u001b[1;33m,\u001b[0m\u001b[0mmarker\u001b[0m\u001b[1;33m=\u001b[0m\u001b[1;34m'd'\u001b[0m\u001b[1;33m)\u001b[0m\u001b[1;33m\u001b[0m\u001b[1;33m\u001b[0m\u001b[0m\n",
      "\u001b[1;31mNameError\u001b[0m: name 'transit_axis' is not defined"
     ]
    },
    {
     "data": {
      "image/png": "[encoded data removed]",
      "text/plain": [
       "<Figure size 720x576 with 1 Axes>"
      ]
     },
     "metadata": {
      "needs_background": "light"
     },
     "output_type": "display_data"
    }
   ],
   "source": [
    "fig, ax = plt.subplots(figsize=(10,8))\n",
    "# Plotting both data sets with labels and markers\n",
    "plt.grid()\n",
    "plt.scatter(transit_axis, transit_radius, label=\"Transit\",s=40,facecolors='none', edgecolors='b')\n",
    "plt.scatter(rv_axis, rv_radius, label=\"Radial Velocity\",s=40,facecolors='none', edgecolors='r',marker='s')\n",
    "plt.scatter(image_axis, image_radius, label=\"Imaging\",s=40,facecolors='none', edgecolors='c',marker='d')\n",
    "plt.scatter(micro_axis, micro_radius, label=\"Microlensing\",s=40,facecolors='none', edgecolors='gray',marker='^')\n",
    "plt.scatter(astro_axis, astro_radius, label=\"Astrometry\",s=40,facecolors='none', edgecolors='m',marker='X')\n",
    "plt.scatter(all_distances, all_radius, label=\"Solar System Data\",facecolors='hotpink')\n",
    "plt.annotate(\"Mer\", (all_distances[0], all_radius[0]))\n",
    "plt.annotate(\"V\", (all_distances[1], all_radius[1]))\n",
    "plt.annotate(\"E\", (all_distances[2], all_radius[2]))\n",
    "plt.annotate(\"Mars\", ( all_distances[3], all_radius[3]))\n",
    "plt.annotate(\"J\", (all_distances[4], all_radius[4]))\n",
    "plt.annotate(\"S\", (all_distances[5], all_radius[5]))\n",
    "plt.annotate(\"U\", (all_distances[6], all_radius[6]))\n",
    "plt.annotate(\"N\", (all_distances[7], all_radius[7]))\n",
    "# Setting plot limits\n",
    "plt.xscale(\"log\")\n",
    "plt.yscale(\"log\")\n",
    "#ax.set_xlim(0.1, 100)\n",
    "#ax.set_ylim(0.2, 50)\n",
    "\n",
    "#detection limit\n",
    "plt.plot(10.0**(np.arange(-2, 4)), direct_radius(10.0**(np.arange(-1, 2))), color=\"red\", label=\"Direct Imaging Detection Limit\")\n",
    "\n",
    "#Setting labels\n",
    "ax.set_xlabel(\"Semimajor Axis (AU)\", fontsize=16)\n",
    "ax.set_ylabel(\"Radius (Earth Radii)\", fontsize=16)\n",
    "ax.set_title(\"Radius vs Semimajor Axis\", fontsize=16)\n",
    "ax.tick_params(axis='x', labelsize=14)\n",
    "ax.tick_params(axis='y', labelsize=14)\n",
    "plt.legend()\n",
    "plt.show()\n",
    "#fig.savefig('RadiusOrb.png', bbox_inches='tight')"
   ]
  },
  {
   "cell_type": "markdown",
   "id": "854ba463",
   "metadata": {},
   "source": [
    "## References\n",
    "Vanderburg et al. 2017, \"Planetary Candidates from the First Year of the K2 Mission,\" The Astrophysical Journal Supplement Series, Volume 222, Issue 1, article id. 14, 15 pp. (2016).\n",
    "    \n",
    "Soulain et al. 2022, \"The James Webb Space Telescope aperture masking interferometer,\" Proceedings of the SPIE, Volume 11446, id. 1144611 18 pp. (2020)."
   ]
  }
 ],
 "metadata": {
  "kernelspec": {
   "display_name": "Python 3 (ipykernel)",
   "language": "python",
   "name": "python3"
  },
  "language_info": {
   "codemirror_mode": {
    "name": "ipython",
    "version": 3
   },
   "file_extension": ".py",
   "mimetype": "text/x-python",
   "name": "python",
   "nbconvert_exporter": "python",
   "pygments_lexer": "ipython3",
   "version": "3.9.7"
  }
 },
 "nbformat": 4,
 "nbformat_minor": 5
}
